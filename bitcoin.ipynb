{
 "cells": [
  {
   "cell_type": "code",
   "execution_count": 2,
   "metadata": {},
   "outputs": [
    {
     "name": "stdout",
     "output_type": "stream",
     "text": [
      "test\n",
      "mxkjdv8sfE11JUsqJT3HtvXezP7Br6GdUb\n"
     ]
    }
   ],
   "source": [
    "from bit import PrivateKeyTestnet\n",
    "\n",
    "#get or recover wallet from wif\n",
    "my_key = PrivateKeyTestnet('cRpr7RW9ENG647Wc2Z3VZzv2Cvcbz7QhNyiVCCS5dzKi2ZaA5SqL')\n",
    "\n",
    "print(my_key.version)\n",
    "\n",
    "#print wif\n",
    "#print(my_key.to_wif())\n",
    "\n",
    "print(my_key.address)"
   ]
  },
  {
   "cell_type": "code",
   "execution_count": 67,
   "metadata": {},
   "outputs": [
    {
     "name": "stdout",
     "output_type": "stream",
     "text": [
      "usd: 26.4\n",
      "btc: 0.00064771\n"
     ]
    }
   ],
   "source": [
    "#Check btc and usd balance\n",
    "\n",
    "print('usd: '+my_key.get_balance('usd'))\n",
    "print('btc: '+my_key.get_balance('btc'))\n",
    "\n"
   ]
  },
  {
   "cell_type": "code",
   "execution_count": 66,
   "metadata": {},
   "outputs": [
    {
     "name": "stdout",
     "output_type": "stream",
     "text": [
      "26a0eb3e95c504d89c1393c2cbb37a79e63c6f922f9f6891076f508dbb49fc4b\n"
     ]
    }
   ],
   "source": [
    "#Send BTC to wallet\n",
    "\n",
    "wallet_to = 'mkH41dfD4S8DEoSfcVSvEfpyZ9siogWWtr'\n",
    "\n",
    "# OR\n",
    "#  outputs = [\n",
    "#      # Wallet 1\n",
    "#      ('1HB5XMLmzFVj8ALj6mfBsbifRoD4miY36v', 0.0035, 'btc'),\n",
    "#      # Wallet 2\n",
    "#      ('1Archive1n2C579dMsAu3iC6tWzuQJz8dN', 190, 'jpy'),\n",
    "#      # Wallet 3\n",
    "#      ('129TQVAroeehD9fZpzK51NdZGQT4TqifbG', 3, 'eur'),\n",
    "#      # Wallet 4\n",
    "#      ('14Tr4HaKkKuC1Lmpr2YMAuYVZRWqAdRTcr', 2.5, 'cad')\n",
    "#  ]\n",
    "\n",
    "amount = 1\n",
    "currency = 'usd'\n",
    "\n",
    "#send bitcoins to wallet\n",
    "tx_hash = my_key.send([(wallet_to, amount, currency)])\n",
    "\n",
    "#print tx hash\n",
    "print(tx_hash)"
   ]
  }
 ],
 "metadata": {
  "kernelspec": {
   "display_name": "venv",
   "language": "python",
   "name": "python3"
  },
  "language_info": {
   "codemirror_mode": {
    "name": "ipython",
    "version": 3
   },
   "file_extension": ".py",
   "mimetype": "text/x-python",
   "name": "python",
   "nbconvert_exporter": "python",
   "pygments_lexer": "ipython3",
   "version": "3.10.13"
  }
 },
 "nbformat": 4,
 "nbformat_minor": 2
}
